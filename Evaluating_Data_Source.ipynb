{
 "cells": [
  {
   "cell_type": "code",
   "execution_count": 1,
   "metadata": {},
   "outputs": [],
   "source": [
    "# 1st Q: Data Source: Amsterdam availability data scraped from AirBnB on December 24th. \n",
    "#Question: What are the popular neighborhoods in Amsterdam?\n",
    "\n",
    "#Answer:(exceptional circumstance) December 24th is the most popular and busiest day in the city due to the Christmas Eve. \n",
    "#They would not like to rent their homes becsuse of that."
   ]
  },
  {
   "cell_type": "code",
   "execution_count": null,
   "metadata": {},
   "outputs": [],
   "source": [
    "# 2nd Q: Data Source: Mental health services use on September 12, 2001 in San Francisco, CA and New York City, NY. \n",
    "#Question: How do patterns of mental health service use vary between cities?\n",
    "\n",
    "#Answer:(execptional circumstance)it may differ because of terror attack happened in NYC a day before. \n",
    "#If we are looking at before september 11, both data may be similar to each other."
   ]
  },
  {
   "cell_type": "code",
   "execution_count": null,
   "metadata": {},
   "outputs": [],
   "source": [
    "# 3rd Q: Data Source: Armenian Pub Survey.\n",
    "#Question: What are the most common reasons Armenians visit local pubs?\n",
    "\n",
    "#Answer: We can say they are just coming for fun. Because most common population are student and female.And \n",
    "# age range is between 18 and 21 and if we are looking at stratum they come from capital and income level is good.\n",
    "#we should ask a new question.\n"
   ]
  }
 ],
 "metadata": {
  "kernelspec": {
   "display_name": "Python 3",
   "language": "python",
   "name": "python3"
  },
  "language_info": {
   "codemirror_mode": {
    "name": "ipython",
    "version": 3
   },
   "file_extension": ".py",
   "mimetype": "text/x-python",
   "name": "python",
   "nbconvert_exporter": "python",
   "pygments_lexer": "ipython3",
   "version": "3.7.0"
  }
 },
 "nbformat": 4,
 "nbformat_minor": 2
}
